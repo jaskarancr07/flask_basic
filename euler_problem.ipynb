{
  "nbformat": 4,
  "nbformat_minor": 0,
  "metadata": {
    "colab": {
      "name": "euler_problem.ipynb",
      "provenance": []
    },
    "kernelspec": {
      "name": "python3",
      "display_name": "Python 3"
    }
  },
  "cells": [
    {
      "cell_type": "code",
      "metadata": {
        "id": "AQi0t0SZ5VBu",
        "colab_type": "code",
        "outputId": "ff00512d-adb6-43d0-b6c4-5a52a4d84d5e",
        "colab": {
          "base_uri": "https://localhost:8080/",
          "height": 51
        }
      },
      "source": [
        "triangle=[]\n",
        "pentagonal=[]\n",
        "hexagonal=[]\n",
        "for n in range(1,99999):\n",
        "  Tn=n*(n+1)/2\n",
        "  Pn=n*(3*n-1)/2\t\n",
        "  Hn=n*(2*n-1)\n",
        "  triangle.append(Tn)\n",
        "  pentagonal.append(Pn)\n",
        "  hexagonal.append(Hn)\n",
        "set_triangle= set(triangle)\n",
        "set_pentagonal= set(pentagonal)\n",
        "set_hexagonal= set(hexagonal)\n",
        "list_inter=list(set_triangle.intersection(set_pentagonal,set_hexagonal))\n",
        "print(list_inter)\n",
        "print('the next triangle number that is also pentagonal and hexagonal:',int(list_inter[2]))"
      ],
      "execution_count": 0,
      "outputs": [
        {
          "output_type": "stream",
          "text": [
            "[1.0, 40755.0, 1533776805.0]\n",
            "the next triangle number that is also pentagonal and hexagonal: 1533776805\n"
          ],
          "name": "stdout"
        }
      ]
    },
    {
      "cell_type": "code",
      "metadata": {
        "id": "f1zm3tMj-Nn-",
        "colab_type": "code",
        "colab": {}
      },
      "source": [
        ""
      ],
      "execution_count": 0,
      "outputs": []
    }
  ]
}